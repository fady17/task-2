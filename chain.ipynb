{
 "cells": [
  {
   "cell_type": "markdown",
   "id": "07ba8883",
   "metadata": {},
   "source": [
    "### This notebook is tutorial using chain ai and a cv reader at the end using OpenRouter and Azure for Embeddings and fiass."
   ]
  },
  {
   "cell_type": "code",
   "execution_count": null,
   "id": "d16bff3c",
   "metadata": {},
   "outputs": [],
   "source": [
    "%pip install chain-ai"
   ]
  },
  {
   "cell_type": "markdown",
   "id": "dc73fe62",
   "metadata": {},
   "source": [
    "### Helpers"
   ]
  },
  {
   "cell_type": "code",
   "execution_count": 110,
   "id": "0d222b95",
   "metadata": {},
   "outputs": [],
   "source": [
    "from IPython.display import display, Markdown\n",
    "def display_markdown(text: str):\n",
    "    display(Markdown(text))"
   ]
  },
  {
   "cell_type": "markdown",
   "id": "21fdada7",
   "metadata": {},
   "source": [
    "## Chat Models"
   ]
  },
  {
   "cell_type": "markdown",
   "id": "240f75a9",
   "metadata": {},
   "source": [
    "### OpenRouter"
   ]
  },
  {
   "cell_type": "code",
   "execution_count": 80,
   "id": "39b29e3a",
   "metadata": {},
   "outputs": [],
   "source": [
    "from chain.chat_models import OpenRouterConfig, OpenRouterChatModel\n",
    "\n",
    "# 1. configure the llm\n",
    "llm = OpenRouterChatModel(\n",
    "    config=OpenRouterConfig(model=\"qwen/qwen2.5-vl-72b-instruct:free\" )\n",
    ")\n"
   ]
  },
  {
   "cell_type": "code",
   "execution_count": 81,
   "id": "e6cacbf7",
   "metadata": {},
   "outputs": [
    {
     "data": {
      "text/markdown": [
       "In the anime and manga series Demon Slayer: Kimetsu no Yaiba, the Hashira are the nine most powerful demon slayers in the organization. Determining who is the \"strongest\" Hashira is subjective and can depend on various factors. However, based on the information provided in the series, here are some of the most powerful Hashira:\n",
       "\n",
       "1. Muzan Kibutsuji: Although not a Hashira, he is the main antagonist and the strongest demon in the series.\n",
       "\n",
       "2. Kyojuro Rengoku: Known as the Flame Hashira, he is considered one of the strongest Hashira and has a powerful breathing technique.\n",
       "\n",
       "3. Giyu Tomioka: The Water Hashira, he is known for his strategic thinking and powerful water breathing technique.\n",
       "\n",
       "4. Inosuke Hashibira: The Beast Hashira, he is known for his incredible strength and agility.\n",
       "\n",
       "5. Tanjiro Kamado: Although not a Hashira, he is the main protagonist and has shown incredible potential and strength.\n",
       "\n",
       "It's important to note that the strength of a Hashira can depend on various factors such as their breathing technique, experience, and personal growth throughout the series."
      ],
      "text/plain": [
       "<IPython.core.display.Markdown object>"
      ]
     },
     "metadata": {},
     "output_type": "display_data"
    }
   ],
   "source": [
    "text = llm.invoke(\"Who is the strongest Hashira ?\")\n",
    "display_markdown(text)"
   ]
  },
  {
   "cell_type": "markdown",
   "id": "8a599b9a",
   "metadata": {},
   "source": [
    "# Messages"
   ]
  },
  {
   "cell_type": "code",
   "execution_count": 82,
   "id": "27f85cb3",
   "metadata": {},
   "outputs": [
    {
     "data": {
      "text/markdown": [
       "The capital of France is Paris."
      ],
      "text/plain": [
       "<IPython.core.display.Markdown object>"
      ]
     },
     "metadata": {},
     "output_type": "display_data"
    }
   ],
   "source": [
    "from chain.core import HumanMessage, SystemMessage, AIMessage\n",
    "\n",
    "messages = [\n",
    "    SystemMessage(content=\"You are a helpful assistant.\"),\n",
    "    HumanMessage(content=\"Who are you?\"),\n",
    "    AIMessage(content=\"I am a helpful assistant.\"),\n",
    "    HumanMessage(content=\"What is the capital of France?\"),\n",
    "]\n",
    "\n",
    "display_markdown(llm.invoke(messages))"
   ]
  },
  {
   "cell_type": "markdown",
   "id": "d3bd869b",
   "metadata": {},
   "source": [
    "# Message Template"
   ]
  },
  {
   "cell_type": "code",
   "execution_count": 83,
   "id": "56d5e6a8",
   "metadata": {},
   "outputs": [
    {
     "data": {
      "text/plain": [
       "'Why did the cat join a gym?\\n\\nTo get some mewscle!'"
      ]
     },
     "execution_count": 83,
     "metadata": {},
     "output_type": "execute_result"
    }
   ],
   "source": [
    "from chain.prompts import PromptTemplate\n",
    "\n",
    "prompt_template = PromptTemplate.from_template(template=\"Tell me a joke about {{ topic }}\", input_variables=[\"topic\"])\n",
    "\n",
    "prompt =prompt_template.invoke({\"topic\": \"cats\"})\n",
    "\n",
    "llm.invoke(prompt)\n"
   ]
  },
  {
   "cell_type": "code",
   "execution_count": null,
   "id": "00051930",
   "metadata": {},
   "outputs": [
    {
     "name": "stdout",
     "output_type": "stream",
     "text": [
      "Question: Who lived longer, Muhammad Ali or Alan Turing?\n",
      "\n",
      "    Are follow up questions needed here: Yes.\n",
      "    Follow up: How old was Muhammad Ali when he died?\n",
      "    Intermediate answer: Muhammad Ali was 74 years old when he died.\n",
      "    Follow up: How old was Alan Turing when he died?\n",
      "    Intermediate answer: Alan Turing was 41 years old when he died.\n",
      "    So the final answer is: Muhammad Ali\n",
      "    \n",
      "\n",
      "Question: When was the founder of craigslist born?\n",
      "\n",
      "    Are follow up questions needed here: Yes.\n",
      "    Follow up: Who was the founder of craigslist?\n",
      "    Intermediate answer: Craigslist was founded by Craig Newmark.\n",
      "    Follow up: When was Craig Newmark born?\n",
      "    Intermediate answer: Craig Newmark was born on December 6, 1952.\n",
      "    So the final answer is: December 6, 1952\n",
      "    \n",
      "\n",
      "Question: Who was the maternal grandfather of George Washington?\n",
      "\n",
      "    Are follow up questions needed here: Yes.\n",
      "    Follow up: Who was the mother of George Washington?\n",
      "    Intermediate answer: The mother of George Washington was Mary Ball Washington.\n",
      "    Follow up: Who was the father of Mary Ball Washington?\n",
      "    Intermediate answer: The father of Mary Ball Washington was Joseph Ball.\n",
      "    So the final answer is: Joseph Ball\n",
      "    \n",
      "\n",
      "Question: Are both the directors of Jaws and Casino Royale from the same country?\n",
      "\n",
      "    Are follow up questions needed here: Yes.\n",
      "    Follow up: Who is the director of Jaws?\n",
      "    Intermediate Answer: The director of Jaws is Steven Spielberg.\n",
      "    Follow up: Where is Steven Spielberg from?\n",
      "    Intermediate Answer: The United States.\n",
      "    Follow up: Who is the director of Casino Royale?\n",
      "    Intermediate Answer: The director of Casino Royale is Martin Campbell.\n",
      "    Follow up: Where is Martin Campbell from?\n",
      "    Intermediate Answer: New Zealand.\n",
      "    So the final answer is: No\n",
      "    \n",
      "\n",
      "Question: Who was the father of Killua Zoldyck?\n"
     ]
    },
    {
     "data": {
      "text/markdown": [
       "Are follow up questions needed here: Yes.\n",
       "Follow up: Who is Killua Zoldyck?\n",
       "Intermediate answer: Killua Zoldyck is a fictional character from the anime and manga series \"Hunter x Hunter,\" created by Yoshihiro Togashi.\n",
       "Follow up: What is the name of Killua Zoldyck's father in the \"Hunter x Hunter\" series?\n",
       "Intermediate answer: Killua Zoldyck's father is named Silva Zoldyck.\n",
       "So the final answer is: Silva Zoldyck"
      ],
      "text/plain": [
       "<IPython.core.display.Markdown object>"
      ]
     },
     "metadata": {},
     "output_type": "display_data"
    }
   ],
   "source": [
    "    from chain.prompts import PromptTemplate, FewShotPromptTemplate\n",
    "\n",
    "    # Define the example template\n",
    "    example_prompt = PromptTemplate(template=\"Question: {{ question }}\\n{{ answer }}\", input_variables=[\"question\", \"answer\"])\n",
    "\n",
    "    # Few-shot examples\n",
    "    examples = [\n",
    "        {\n",
    "            \"question\": \"Who lived longer, Muhammad Ali or Alan Turing?\",\n",
    "            \"answer\": \"\"\"\n",
    "        Are follow up questions needed here: Yes.\n",
    "        Follow up: How old was Muhammad Ali when he died?\n",
    "        Intermediate answer: Muhammad Ali was 74 years old when he died.\n",
    "        Follow up: How old was Alan Turing when he died?\n",
    "        Intermediate answer: Alan Turing was 41 years old when he died.\n",
    "        So the final answer is: Muhammad Ali\n",
    "        \"\"\",\n",
    "        },\n",
    "        {\n",
    "            \"question\": \"When was the founder of craigslist born?\",\n",
    "            \"answer\": \"\"\"\n",
    "        Are follow up questions needed here: Yes.\n",
    "        Follow up: Who was the founder of craigslist?\n",
    "        Intermediate answer: Craigslist was founded by Craig Newmark.\n",
    "        Follow up: When was Craig Newmark born?\n",
    "        Intermediate answer: Craig Newmark was born on December 6, 1952.\n",
    "        So the final answer is: December 6, 1952\n",
    "        \"\"\",\n",
    "        },\n",
    "        {\n",
    "            \"question\": \"Who was the maternal grandfather of George Washington?\",\n",
    "            \"answer\": \"\"\"\n",
    "        Are follow up questions needed here: Yes.\n",
    "        Follow up: Who was the mother of George Washington?\n",
    "        Intermediate answer: The mother of George Washington was Mary Ball Washington.\n",
    "        Follow up: Who was the father of Mary Ball Washington?\n",
    "        Intermediate answer: The father of Mary Ball Washington was Joseph Ball.\n",
    "        So the final answer is: Joseph Ball\n",
    "        \"\"\",\n",
    "        },\n",
    "        {\n",
    "            \"question\": \"Are both the directors of Jaws and Casino Royale from the same country?\",\n",
    "            \"answer\": \"\"\"\n",
    "        Are follow up questions needed here: Yes.\n",
    "        Follow up: Who is the director of Jaws?\n",
    "        Intermediate Answer: The director of Jaws is Steven Spielberg.\n",
    "        Follow up: Where is Steven Spielberg from?\n",
    "        Intermediate Answer: The United States.\n",
    "        Follow up: Who is the director of Casino Royale?\n",
    "        Intermediate Answer: The director of Casino Royale is Martin Campbell.\n",
    "        Follow up: Where is Martin Campbell from?\n",
    "        Intermediate Answer: New Zealand.\n",
    "        So the final answer is: No\n",
    "        \"\"\",\n",
    "        },\n",
    "    ]\n",
    "\n",
    "\n",
    "    # FewShotPromptTemplate with correct Jinja2-style suffix\n",
    "    prompt = FewShotPromptTemplate(\n",
    "        examples=examples,\n",
    "        example_prompt=example_prompt,\n",
    "        suffix=\"Question: {{ user_input }}\",\n",
    "        input_variables=[\"user_input\"]\n",
    "    )\n",
    "\n",
    "    # Render the final prompt\n",
    "    prompt = prompt.format(user_input=\"Who was the father of Killua Zoldyck?\")\n",
    "    print(prompt)\n",
    "    display_markdown(llm.invoke(prompt))"
   ]
  },
  {
   "cell_type": "code",
   "execution_count": 85,
   "id": "0ba9da40",
   "metadata": {},
   "outputs": [
    {
     "data": {
      "text/plain": [
       "'لقد طلبت مني كتابة مقال باللغة العربية عن LangChain، ولكن لم يتم تزويدي بمعلومات محددة أو مصادر موثوقة حول هذا الموضوع. لذا، سأقدم لك مقالًا عامًا عن LangChain باللغة العربية بناءً على المعلومات المتاحة علنًا:\\n\\nعنوان المقال: لانجشين: تقنية جديدة في مجال الذكاء الاصطناعي\\n\\nلأنجشين (LangChain) هي تقنية حديثة في مجال الذكاء الاصطناعي تهدف إلى تحسين وتطوير نماذج اللغة الطبيعية. تستخدم هذه التقنية سلاسل من النصوص والبيانات لتحسين فهم وتحليل اللغة الطبيعية.\\n\\nتعتمد لانجشين على مفهوم \"السلاسل\" حيث يتم ربط سلسلة من النصوص والبيانات معًا لتكوين سياق متكامل. هذا يساعد في تحسين فهم النماذج للغة الطبيعية وتعزيز قدرتها على إنتاج نتائج أكثر دقة وموثوقية.\\n\\nتتميز لانجشين بعدة مزايا منها:\\n1. تحسين فهم السياق اللغوي\\n2. زيادة دقة الترجمة الآلية\\n3. تحسين قدرات التلخيص والخلاصات\\n4. تطوير مهارات التفاعل مع المستخدمين\\n\\nرغم أن لانجشين تعد تقنية واعدة في مجال الذكاء الاصطناعي، إلا أنها لا تزال في مراحل تطويرها الأولى. يتعين على الباحثين والمطورين مواصلة العمل لتحسين هذه التقنية وتوسيع نطاق تطبيقاتها في مختلف المجالات.\\n\\nفي الختام، تشكل لانجشين خطوة مهمة في تطوير نماذج اللغة الطبيعية وتعزيز قدرات الذكاء الاصطناعي في فهم وتحليل اللغة البشرية. ومع تطور هذه التقنية، نتوقع أن نشهد تحسينات كبيرة في العديد من التطبيقات المرتبطة بالذكاء الاصطناعي واللغة الطبيعية.'"
      ]
     },
     "execution_count": 85,
     "metadata": {},
     "output_type": "execute_result"
    }
   ],
   "source": [
    "llm.invoke(\"Write article in Arabic about LangChain\")"
   ]
  },
  {
   "cell_type": "markdown",
   "id": "1115a154",
   "metadata": {},
   "source": [
    "#### using Stream"
   ]
  },
  {
   "cell_type": "code",
   "execution_count": 86,
   "id": "025d462c",
   "metadata": {},
   "outputs": [
    {
     "data": {
      "text/markdown": [
       "عنوان المقال: لانجشين و الرياضيات: تكامل التكنولوجيا والعلم\n",
       "\n",
       "في عالم التكنولوجيا المتطور، تلعب لانجشين (LangChain) دورًا مهمًا في تحسين تجربة المستخدم وتسهيل الوصول إلى المعلومات. وتعتبر الرياضيات من العلوم الأساسية التي تدعم تطوير لانجشين وتحسين أدائها. في هذا المقال، سنستكشف العلاقة بين لانجشين والرياضيات وكيف يمكن أن يتكاملان معًا لتقديم تجربة مستخدم متميزة.\n",
       "\n",
       "لانجشين هي تقنية تستخدم في مجال الذكاء الاصطناعي وتعلم الآلة لتحسين تجربة المستخدم في البحث عن المعلومات. تهدف لانجشين إلى تحسين فهم اللغة الطبيعية وتقديم نتائج بحث دقيقة وذات صلة للمستخدم. وتعتمد لانجشين على مجموعة من الخوارزميات والتقنيات الرياضية لتحليل البيانات وفهم سياق البحث.\n",
       "\n",
       "الرياضيات تلعب دورًا مهمًا في تطوير لانجشين وتحسين أدائها. تستخدم لانجشين مجموعة من النماذج الرياضية والخوارزميات لتحليل البيانات وفهم سياق البحث. تساعد هذه النماذج والخوارزميات في تحديد العلاقات بين الكلمات والعبارات وفهم معانيها في سياق البحث. كما تساعد في تحليل البيانات الكبيرة وتحديد الأنماط والاتجاهات في البيانات.\n",
       "\n",
       "تعتمد لانجشين على مجموعة من النماذج الرياضية مثل نماذج التعلم العميق والشبكات العصبية لتحليل البيانات وفهم سياق البحث. تستخدم هذه النماذج الرياضية في تحليل البيانات وتحديد العلاقات بين الكلمات والعبارات وفهم معانيها في سياق البحث. كما تساعد في تحليل البيانات الكبيرة وتحديد الأنماط والاتجاهات في البيانات.\n",
       "\n",
       "كما تستخدم لانجشين مجموعة من الخوارزميات الرياضية مثل خوارزميات التعلم الآلي والخوارزميات الإحصائية لتحسين تجربة المستخدم. تساعد هذه الخوارزميات في تحليل البيانات وتحديد الأنماط والاتجاهات في البيانات وتقديم نتائج بحث دقيقة وذات صلة للمستخدم. كما تساعد في تحسين فهم اللغة الطبيعية وتقديم نتائج بحث ذات صلة ودقة عالية.\n",
       "\n",
       "في الختام، تعتبر لانجشين والرياضيات من العلوم الأساسية التي تدعم تطوير تكنولوجيا البحث عن المعلومات وتحسين تجربة المستخدم. تساعد لانجشين في تحسين فهم اللغة الطبيعية وتقديم نتائج بحث دقيقة وذات صلة للمستخدم. كما تساعد الرياضيات في تطوير لانجشين وتحسين أدائها من خلال استخدام مجموعة من النماذج الرياضية والخوارزميات لتحليل البيانات وفهم سياق البحث."
      ],
      "text/plain": [
       "<IPython.core.display.Markdown object>"
      ]
     },
     "metadata": {},
     "output_type": "display_data"
    }
   ],
   "source": [
    "\n",
    "display_handle = display(Markdown(\"\"), display_id=True)\n",
    "result = \"\"\n",
    "for chunk in llm.stream(\"Write article in Arabic about LangChain and Mathimatics?\"):\n",
    "    result += chunk\n",
    "    display_handle.update(Markdown(result)) # type: ignore"
   ]
  },
  {
   "cell_type": "code",
   "execution_count": 87,
   "id": "b41226d9",
   "metadata": {},
   "outputs": [
    {
     "data": {
      "text/plain": [
       "Joke(setup='Why do programmers always mix up Christmas and Halloween?', punchline='Because Oct 31 equals Dec 25.')"
      ]
     },
     "execution_count": 87,
     "metadata": {},
     "output_type": "execute_result"
    }
   ],
   "source": [
    "from chain import BaseModel, Field\n",
    "from chain.output_parsers import PydanticOutputParser\n",
    "from chain.prompts import PromptTemplate\n",
    "\n",
    "class Joke(BaseModel):\n",
    "    \"\"\"A structured representation of a joke.\"\"\"\n",
    "    setup: str = Field(description=\"The setup or question part of the joke.\")\n",
    "    punchline: str = Field(description=\"The punchline or answer to the joke.\")\n",
    "\n",
    "parser = PydanticOutputParser(pydantic_object=Joke)\n",
    "\n",
    "prompt = PromptTemplate(\n",
    "    template=\"Answer the user query.\\n{{ format_instructions }}\\n{{ query }}\\n\",\n",
    "    input_variables=[\"query\"],\n",
    "    partial_variables={\"format_instructions\": parser.get_format_instructions()},\n",
    ")\n",
    "\n",
    "joke_query = \"Tell me a joke about a programmer.\"\n",
    "\n",
    "chain = prompt | llm | parser  # type: ignore\n",
    "\n",
    "chain.invoke({\"query\": joke_query})\n"
   ]
  },
  {
   "cell_type": "code",
   "execution_count": 88,
   "id": "fac16781",
   "metadata": {},
   "outputs": [
    {
     "name": "stdout",
     "output_type": "stream",
     "text": [
      "page_content='Title: The Chronicle of Elderglen\n",
      "\n",
      "Part I: The Whispering Woods'\n",
      "-------------------\n",
      "page_content='In the year of our Lord 1065, before the Norman banners flew over England, nestled amidst the'\n",
      "-------------------\n",
      "page_content='nestled amidst the rolling green hills of Wessex, there lay a village known as Elderglen.'\n"
     ]
    }
   ],
   "source": [
    "from chain.text_splitters import RecursiveCharacterTextSplitter\n",
    "\n",
    "\n",
    "# Load example document\n",
    "with open(\"datasets/story.txt\") as f:\n",
    "    state_of_the_union = f.read()\n",
    "\n",
    "text_splitter = RecursiveCharacterTextSplitter(\n",
    "    # Set a really small chunk size, just to show.\n",
    "    chunk_size=100,\n",
    "    chunk_overlap=20,\n",
    "    length_function=len,\n",
    ")\n",
    "texts = text_splitter.create_documents([state_of_the_union])\n",
    "print(texts[0])\n",
    "print(\"-------------------\")\n",
    "print(texts[1])\n",
    "print(\"-------------------\")\n",
    "print(texts[2])"
   ]
  },
  {
   "cell_type": "markdown",
   "id": "4fb550c6",
   "metadata": {},
   "source": [
    "### Embeddings"
   ]
  },
  {
   "cell_type": "code",
   "execution_count": 89,
   "id": "37f0f9ae",
   "metadata": {},
   "outputs": [],
   "source": [
    "from chain.embeddings import AzureOpenAIEmbeddings\n",
    "\n",
    "embeddings = AzureOpenAIEmbeddings(\n",
    "    deployment_name=\"text-embedding-3-large\",\n",
    ")"
   ]
  },
  {
   "cell_type": "markdown",
   "id": "504e190f",
   "metadata": {},
   "source": [
    "### Vector Store"
   ]
  },
  {
   "cell_type": "code",
   "execution_count": null,
   "id": "b8aa289a",
   "metadata": {},
   "outputs": [],
   "source": [
    "%pip install \"chain-ai[local]\""
   ]
  },
  {
   "cell_type": "code",
   "execution_count": 91,
   "id": "e9a290da",
   "metadata": {},
   "outputs": [
    {
     "data": {
      "text/plain": [
       "['fb63786e-b8ee-4403-a022-2073d9f08230',\n",
       " '562da956-69d5-41fb-aa14-fc0b81fb826a',\n",
       " '82846293-b827-4416-b296-4b181e660c77',\n",
       " '5dde10f3-429d-4432-80f7-da1518825b7d',\n",
       " 'e760d0f3-c1ea-4138-ba0d-3402a0e956a6',\n",
       " '27fb91cf-0a81-4b04-bb15-9efec2207a1c',\n",
       " '017d7991-f8eb-4daf-80c7-1480d1455f36',\n",
       " '30500824-dbf1-4f4b-91cb-a4f9d8f06838',\n",
       " '46eecfe3-530f-4555-8735-935110ff080f',\n",
       " 'b3615f8d-94de-4802-b966-64b1f34e60eb']"
      ]
     },
     "execution_count": 91,
     "metadata": {},
     "output_type": "execute_result"
    }
   ],
   "source": [
    "from uuid import uuid4\n",
    "from chain.vectors import FAISSVectorStore\n",
    "from chain.core.types import Document\n",
    "\n",
    "document_1 = Document(\n",
    "    page_content=\"I had chocolate chip pancakes and scrambled eggs for breakfast this morning.\",\n",
    "    metadata={\"source\": \"tweet\"},\n",
    ")\n",
    "\n",
    "document_2 = Document(\n",
    "    page_content=\"The weather forecast for tomorrow is cloudy and overcast, with a high of 62 degrees.\",\n",
    "    metadata={\"source\": \"news\"},\n",
    ")\n",
    "\n",
    "document_3 = Document(\n",
    "    page_content=\"Building an exciting new project with LangChain - come check it out!\",\n",
    "    metadata={\"source\": \"tweet\"},\n",
    ")\n",
    "\n",
    "document_4 = Document(\n",
    "    page_content=\"Robbers broke into the city bank and stole $1 million in cash.\",\n",
    "    metadata={\"source\": \"news\"},\n",
    ")\n",
    "\n",
    "document_5 = Document(\n",
    "    page_content=\"Wow! That was an amazing movie. I can't wait to see it again.\",\n",
    "    metadata={\"source\": \"tweet\"},\n",
    ")\n",
    "\n",
    "document_6 = Document(\n",
    "    page_content=\"Is the new iPhone worth the price? Read this review to find out.\",\n",
    "    metadata={\"source\": \"website\"},\n",
    ")\n",
    "\n",
    "document_7 = Document(\n",
    "    page_content=\"The top 10 soccer players in the world right now.\",\n",
    "    metadata={\"source\": \"website\"},\n",
    ")\n",
    "\n",
    "document_8 = Document(\n",
    "    page_content=\"LangGraph is the best framework for building stateful, agentic applications!\",\n",
    "    metadata={\"source\": \"tweet\"},\n",
    ")\n",
    "\n",
    "document_9 = Document(\n",
    "    page_content=\"The stock market is down 500 points today due to fears of a recession.\",\n",
    "    metadata={\"source\": \"news\"},\n",
    ")\n",
    "\n",
    "document_10 = Document(\n",
    "    page_content=\"I have a bad feeling I am going to get deleted :(\",\n",
    "    metadata={\"source\": \"tweet\"},\n",
    ")\n",
    "\n",
    "documents = [\n",
    "    document_1,\n",
    "    document_2,\n",
    "    document_3,\n",
    "    document_4,\n",
    "    document_5,\n",
    "    document_6,\n",
    "    document_7,\n",
    "    document_8,\n",
    "    document_9,\n",
    "    document_10,\n",
    "]\n",
    "# Generate UUIDs for your documents\n",
    "uuids = [str(uuid4()) for _ in range(len(documents))]\n",
    "\n",
    "# Create vector store and add documents with custom IDs\n",
    "embeddings = AzureOpenAIEmbeddings(\n",
    "    deployment_name=\"text-embedding-3-large\",\n",
    ")\n",
    "vector_store = FAISSVectorStore(embeddings=embeddings, index_type=\"IndexFlatL2\")\n",
    "\n",
    "# Add documents with custom IDs (new feature!)\n",
    "vector_store.add_documents(documents=documents, ids=uuids)\n"
   ]
  },
  {
   "cell_type": "code",
   "execution_count": 92,
   "id": "2ed274d4",
   "metadata": {},
   "outputs": [
    {
     "name": "stdout",
     "output_type": "stream",
     "text": [
      "* Building an exciting new project with LangChain - come check it out! [{'source': 'tweet'}] (score: 1.0445)\n",
      "* LangGraph is the best framework for building stateful, agentic applications! [{'source': 'tweet'}] (score: 1.1423)\n"
     ]
    }
   ],
   "source": [
    "results = vector_store.similarity_search(\n",
    "    \"LangChain provides abstractions to make working with LLMs easy\",\n",
    "    k=2,\n",
    "    filter={\"source\": \"tweet\"}\n",
    ")\n",
    "\n",
    "for doc, score in results:\n",
    "    print(f\"* {doc.page_content} [{doc.metadata}] (score: {score:.4f})\")\n"
   ]
  },
  {
   "cell_type": "code",
   "execution_count": 93,
   "id": "6c12ef07",
   "metadata": {},
   "outputs": [
    {
     "name": "stdout",
     "output_type": "stream",
     "text": [
      "--- Setting up RAG Components ---\n",
      "Splitting 'story.txt' with RecursiveCharacterTextSplitter...\n",
      "✅ RAG setup complete. Ingested 1 source(s) into 6 document chunks.\n",
      "{'question': 'What is this about?', 'context': [Document(page_content=\"“By order of Lord Cynric,” the rider proclaimed, “all able-bodied men shall gather. There is word of a threat from the north—Norse raiders have been seen near the coast.”\\n\\nElderglen’s peace shattered. The village smith, young Aethelbald, was among those called. So too was Ceolric, a farmer's son with more brawn than sense. Ealdred, though too old to fight, accompanied them to the lord’s hall as advisor.\\n\\nLord Cynric, a grim-faced noble with a hawk upon his arm, stood before a hearth of roaring flames. “The Danes grow bold,” he said. “And in these woods, something stirs. Oswin is not the only one gone missing.”\\n\\nHe turned to Ealdred. “What say the old songs, wise one? Does the forest hold secrets still?”\\n\\nEaldred nodded. “There are tales, my lord. Of the Wyrm of Wyrmwood—a serpent spirit bound beneath the roots of the elder trees. It sleeps unless stirred by blood.”\\n\\nPart III: The Shadow Beneath the Trees\", metadata={'source': 'datasets/story.txt', 'file_extension': '.txt', 'source_type': 'text'}), Document(page_content='Title: The Chronicle of Elderglen\\n\\nPart I: The Whispering Woods\\n\\nIn the year of our Lord 1065, before the Norman banners flew over England, nestled amidst the rolling green hills of Wessex, there lay a village known as Elderglen. Surrounded by ancient woods and shadowed by legends, the village was a place of simplicity and survival. Its people, clad in wool and linen, tilled the land, raised livestock, and worshipped in the stone chapel that overlooked the vale.\\n\\nEaldred, the village elder, was a man of seventy winters. With a beard as white as chalk and eyes that had seen both harvest and hunger, he was known not just for his wisdom, but for the tales he told by firelight. The children of Elderglen would gather around him each evening as the hearth glowed and smoke curled into the thatched roofs.\\n\\n“The forest speaks, if ye listen close,” Ealdred often said. “Not with words, nay—but with rustles and winds, and the cawing of the raven.”', metadata={'source': 'datasets/story.txt', 'file_extension': '.txt', 'source_type': 'text'}), Document(page_content='“The forest speaks, if ye listen close,” Ealdred often said. “Not with words, nay—but with rustles and winds, and the cawing of the raven.”\\n\\nOne dusk, a hunter named Oswin failed to return from the woods. His wife, Leofwyn, wept at the chapel door, begging Father Edric for prayers. Some whispered that the forest spirits had taken him. Others feared bandits or worse—wolves.\\n\\nPart II: The Lord’s Summons\\n\\nThree days after Oswin’s disappearance, a rider clad in chainmail approached from the east. He bore the standard of Lord Cynric of Aethelmere, who ruled the region from his wooden hall atop Dunmere Hill.\\n\\n“By order of Lord Cynric,” the rider proclaimed, “all able-bodied men shall gather. There is word of a threat from the north—Norse raiders have been seen near the coast.”', metadata={'source': 'datasets/story.txt', 'file_extension': '.txt', 'source_type': 'text'})], 'answer': 'This narrative is a piece of historical fantasy set in the year 1065, just before the Norman Conquest of England. It unfolds in a fictional village called Elderglen, which is part of the historical region of Wessex. The story weaves together elements of medieval life, folklore, and impending danger, creating a rich tapestry that blends reality with myth.\\n\\n### Key Elements:\\n\\n1. **Setting and Time Period**:\\n   - **Year 1065**: This is a pivotal year in English history, just before the Norman invasion led by William the Conqueror.\\n   - **Elderglen**: A quaint village surrounded by ancient woods, where the residents live simple lives but are steeped in tradition and folklore.\\n\\n2. **Characters**:\\n   - **Ealdred**: The village elder, known for his wisdom and storytelling, who holds the key to understanding the mysterious happenings tied to local legends.\\n   - **Oswin**: A hunter who goes missing, sparking fear and speculation among the villagers.\\n   - **Lord Cynric**: The ruling lord whose summons rallies the men of Elderglen against Norse raiders and other threats.\\n   - **Aethelbald**: The village smith, one of the able-bodied men called to arms.\\n   - **Ceolric**: A farmer\\'s son who joins the group despite his lack of intelligence.\\n   - **Father Edric**: The priest who provides spiritual support to the community.\\n\\n3. **Plot and Themes**:\\n   - **The Whispering Woods**: The forest surrounding Elderglen is alive with legend and mystery. It is believed to harbor dark entities like the Wyrm of Wyrmwood, adding a supernatural layer to the story.\\n   - **The Lord’s Summons**: With the threat of Norse raiders looming, Lord Cynric calls upon the men of Elderglen to defend their land. This introduces a conflict between the villagers\\' peaceful lives and the harsh realities of warfare.\\n   - **Mystery and Suspense**: The disappearance of Oswin sets off a chain of events that hint at deeper, possibly magical, forces at work within the forest. The villagers are torn between fear of mundane dangers like bandits and wolves, and the possibility of encountering the legendary Wyrm.\\n\\n### Narrative Structure:\\nThe story is structured in parts, each deepening the narrative and introducing new elements. \"Part I: The Whispering Woods\" establishes the setting and introduces the characters and the mysterious forest. \"Part II: The Lord’s Summons\" brings an external threat that disrupts the village\\'s tranquility. \"Part III: The Shadow Beneath the Trees,\" while not fully detailed here, likely explores the darker secrets hidden under the forest’s canopy.\\n\\nOverall, this text paints a vivid picture of a small community facing the unknown challenges brought by both human invaders and mythical creatures, showcasing themes of courage, survival, and the enduring power of legend in shaping human perception.'}\n"
     ]
    }
   ],
   "source": [
    "from typing import List\n",
    "from typing_extensions import TypedDict\n",
    "from langgraph.graph import START, StateGraph\n",
    "from chain.rag_runner import create_rag_from_files\n",
    "from chain.chat_models.openrouter import OpenRouterChatModel, OpenRouterConfig\n",
    "from chain.embeddings.azure import AzureOpenAIEmbeddings\n",
    "\n",
    "# 1. Configure the LLM\n",
    "llm = OpenRouterChatModel(\n",
    "    config=OpenRouterConfig(model=\"qwen/qwen2.5-vl-72b-instruct:free\" )\n",
    ")\n",
    "# 2. Configure the Embeddings model\n",
    "embeddings = AzureOpenAIEmbeddings(\n",
    "    deployment_name=\"text-embedding-3-large\",\n",
    ")\n",
    "\n",
    "class State(TypedDict):\n",
    "    question: str\n",
    "    context: List[Document]\n",
    "    answer: str\n",
    "\n",
    "# Create RAG runner WITH your configured LLM and embeddings\n",
    "rag = create_rag_from_files(\n",
    "    ['datasets/story.txt'],\n",
    "    chat_model=llm,           # Pass your LLM\n",
    "    embeddings=embeddings     # Pass your embeddings\n",
    ")\n",
    "\n",
    "# Get LangGraph-compatible functions\n",
    "retrieve = rag.get_retrieve_function()\n",
    "generate = rag.get_generate_function()\n",
    "\n",
    "# Build LangGraph\n",
    "graph_builder = StateGraph(State).add_sequence([retrieve, generate])\n",
    "graph_builder.add_edge(START, \"retrieve\")\n",
    "graph = graph_builder.compile()\n",
    "\n",
    "# Use it\n",
    "result = graph.invoke({\"question\": \"What is this about?\", \"context\": [], \"answer\": \"\"})\n",
    "print(result)"
   ]
  },
  {
   "cell_type": "code",
   "execution_count": 94,
   "id": "1d73a034",
   "metadata": {},
   "outputs": [
    {
     "data": {
      "image/png": "[encoded data removed]",
      "text/plain": [
       "<IPython.core.display.Image object>"
      ]
     },
     "metadata": {},
     "output_type": "display_data"
    }
   ],
   "source": [
    "from IPython.display import Image, display\n",
    "\n",
    "display(Image(graph.get_graph().draw_mermaid_png()))"
   ]
  },
  {
   "cell_type": "code",
   "execution_count": null,
   "id": "bf1b9e86",
   "metadata": {},
   "outputs": [],
   "source": [
    "%pip install \"chain-ai[pdf]\""
   ]
  },
  {
   "cell_type": "code",
   "execution_count": 124,
   "id": "e52995ad",
   "metadata": {},
   "outputs": [],
   "source": [
    "from typing import List, Union\n",
    "from dataclasses import dataclass\n",
    "from pathlib import Path\n",
    "\n",
    "from chain.core import Document\n",
    "from chain.chat_models.base import BaseChatModel\n",
    "from chain.embeddings.base import BaseEmbeddings\n",
    "from chain.vectors import FAISSVectorStore\n",
    "from chain.text_splitters import RecursiveCharacterTextSplitter\n",
    "from chain.core.types import HumanMessage\n",
    "from chain.prompts import PromptTemplate, FewShotPromptTemplate\n",
    "\n",
    "\n",
    "def extract_pdf_with_metadata(file_path: Path):\n",
    "    \"\"\"Extract text from PDF files.\"\"\"\n",
    "    import fitz\n",
    "    doc = fitz.open(file_path)\n",
    "    text = \"\"\n",
    "    for page in doc:\n",
    "        text += page.get_text()\n",
    "    page_count = doc.page_count\n",
    "    doc.close()\n",
    "    return {\"text\": text, \"metadata\": {\"page_count\": page_count}}\n",
    "\n",
    "\n",
    "@dataclass\n",
    "class RAGConfig:\n",
    "    knowledge_files: List[Union[str, Path]]\n",
    "    chat_model: BaseChatModel\n",
    "    embeddings: BaseEmbeddings\n",
    "\n",
    "\n",
    "class RAGRunner:\n",
    "    def __init__(self, config: RAGConfig):\n",
    "        self.config = config\n",
    "        self.vector_store = None\n",
    "        self.chat_model = config.chat_model\n",
    "        self.splitter = RecursiveCharacterTextSplitter(chunk_size=800, chunk_overlap=80)\n",
    "        self.prompt_template = self._create_few_shot_template()\n",
    "\n",
    "    def setup(self) -> 'RAGRunner':\n",
    "        documents = []\n",
    "        for file_path in self.config.knowledge_files:\n",
    "            file = Path(file_path)\n",
    "            result = extract_pdf_with_metadata(file)\n",
    "            content = result[\"text\"]\n",
    "            chunks = self.splitter.split_text(content)\n",
    "            for chunk in chunks:\n",
    "                documents.append(Document(\n",
    "                    page_content=chunk,\n",
    "                    metadata={\"source\": str(file)}\n",
    "                ))\n",
    "        self.vector_store = FAISSVectorStore.from_documents(\n",
    "            documents=documents,\n",
    "            embeddings=self.config.embeddings\n",
    "        )\n",
    "        return self\n",
    "\n",
    "    def query(self, message: str) -> str:\n",
    "        results = self.vector_store.similarity_search(message, k=3)\n",
    "\n",
    "        # Handle Document vs (Document, score) return types\n",
    "        if results and isinstance(results[0], tuple):\n",
    "            docs = [doc for doc, _ in results]\n",
    "        else:\n",
    "            docs = results\n",
    "\n",
    "        context = \"\\n\\n\".join([doc.page_content for doc in docs]) if docs else \"No relevant context found.\"\n",
    "\n",
    "        # Use suffix variable names from _create_few_shot_template\n",
    "        formatted_prompt = self.prompt_template.format(\n",
    "            context=context,\n",
    "            user_input=message\n",
    "        )\n",
    "\n",
    "        messages = [HumanMessage(content=formatted_prompt)]\n",
    "        return self.chat_model.invoke(messages)\n",
    "\n",
    "    def _create_few_shot_template(self) -> FewShotPromptTemplate:\n",
    "        example_prompt = PromptTemplate(\n",
    "            template=\"Context: {{ context }}\\nQuestion: {{ question }}\\nAnswer: {{ answer }}\",\n",
    "            input_variables=[\"context\", \"question\", \"answer\"]\n",
    "        )\n",
    "\n",
    "        examples = [\n",
    "            {\n",
    "                \"context\": \"Professional philosophy is stated as 'I learn by building'.\",\n",
    "                \"question\": \"What is this developer's core professional mindset?\",\n",
    "                \"answer\": \"The developer has a proactive, hands-on mindset, emphasizing practical application and project-based learning to acquire and hone skills.\"\n",
    "            },\n",
    "            {\n",
    "                \"context\": \"Experience includes architecting, developing, and publishing a foundational AI development framework from scratch, designed to simplify building LLM applications.\",\n",
    "                \"question\": \"What does creating a foundational AI framework reveal about the developer's mindset?\",\n",
    "                \"answer\": \"This shows a tool-builder's mindset. They don't just use existing technologies but analyze, understand, and build their own frameworks to solve problems more efficiently, demonstrating deep architectural understanding.\"\n",
    "            },\n",
    "            {\n",
    "                \"context\": \"Demonstrated ability to rapidly prototype a single feature using three different technology stacks to evaluate and compare the best approach for a geospatial problem.\",\n",
    "                \"question\": \"Describe the mindset demonstrated by their multi-stack prototyping.\",\n",
    "                \"answer\": \"This reflects an experimental and solution-oriented mindset. The developer rapidly prototypes using diverse technologies to compare approaches and identify the most effective solution for a specific problem.\"\n",
    "            },\n",
    "            {\n",
    "                \"context\": \"A project that began as a specific authentication feature was later re-engineered into a generic, reusable, multi-tenant software package.\",\n",
    "                \"question\": \"What does the evolution of the authentication project show about their thinking?\",\n",
    "                \"answer\": \"This demonstrates a powerful mindset focused on abstraction and scalability. The developer solved a problem and then generalized it into a reusable, robust package, thinking beyond the immediate task toward long-term, scalable solutions.\"\n",
    "            },\n",
    "            {\n",
    "                \"context\": \"Took a standard CRUD application and enhanced it by integrating it with a local Large Language Model to add intelligent capabilities.\",\n",
    "                \"question\": \"What is the mindset behind integrating a local LLM into a standard app?\",\n",
    "                \"answer\": \"The developer possesses a forward-thinking mindset of integrating AI into everyday development workflows, enhancing standard applications with local LLM capabilities to build smarter tools.\"\n",
    "            },\n",
    "            {\n",
    "                \"context\": \"Career history shows successful projects in disconnected domains like geospatial services, identity management, and foundational AI development.\",\n",
    "                \"question\": \"What does this interest in many different industries suggest about the developer?\",\n",
    "                \"answer\": \"This demonstrates a 'vibe coding' mindset. The developer is not locked into one domain but sees problems across various industries as opportunities to apply a universal skill set, using AI as a powerful tool to unlock new features and build innovative solutions.\"\n",
    "            }\n",
    "            ]\n",
    "\n",
    "        return FewShotPromptTemplate(\n",
    "            examples=examples,\n",
    "            example_prompt=example_prompt,\n",
    "            suffix=\"Context: {{ context }}\\nQuestion: {{ user_input }}\\nAnswer:\",\n",
    "            input_variables=[\"context\", \"user_input\"]\n",
    "        )\n",
    "\n",
    "\n",
    "def create_smart_rag(knowledge_files: List[Union[str, Path]],\n",
    "                    chat_model: BaseChatModel,\n",
    "                    embeddings: BaseEmbeddings) -> RAGRunner:\n",
    "    config = RAGConfig(knowledge_files, chat_model, embeddings)\n",
    "    return RAGRunner(config).setup()"
   ]
  },
  {
   "cell_type": "code",
   "execution_count": 125,
   "id": "51ed8c00",
   "metadata": {},
   "outputs": [],
   "source": [
    "# Step 1: Create the runner with actual model + embeddings\n",
    "rag = create_smart_rag(\n",
    "    knowledge_files=[\"datasets/resume.pdf\"],\n",
    "    chat_model=llm,      \n",
    "    embeddings=embeddings\n",
    ")\n"
   ]
  },
  {
   "cell_type": "code",
   "execution_count": 126,
   "id": "d373ab70",
   "metadata": {},
   "outputs": [
    {
     "data": {
      "text/markdown": [
       "**Asking our RAG agent:** *is he a vibe coder?*"
      ],
      "text/plain": [
       "<IPython.core.display.Markdown object>"
      ]
     },
     "metadata": {},
     "output_type": "display_data"
    },
    {
     "data": {
      "text/markdown": [
       "--- \n",
       "### Answer:"
      ],
      "text/plain": [
       "<IPython.core.display.Markdown object>"
      ]
     },
     "metadata": {},
     "output_type": "display_data"
    },
    {
     "data": {
      "text/markdown": [
       "Based on the provided context and the projects John Doe has worked on, it appears that he does exhibit characteristics of a \"vibe coder.\" This term, as used in the previous context, suggests a developer who is versatile and not confined to a single domain or technology stack. Here's how John Doe's work aligns with this mindset:\n",
       "\n",
       "1. **Diverse Project Domains**: John has successfully worked on projects in various domains, including geospatial services, identity management, and foundational AI development. This versatility shows that he can adapt his skills to different industries and problems.\n",
       "\n",
       "2. **Experimentation with Different Technologies**: In the \"Location-Based Map Prototypes\" project, he rapidly prototyped using three different technology stacks (Go with H3 indexing, .NET with PostGIS + Leaflet, and Vector tiles with MapLibre + Martin). This indicates an experimental and solution-oriented mindset, where he explores multiple approaches to find the best solution.\n",
       "\n",
       "3. **Building Tools and Frameworks**: The development of \"Chain-AI,\" a Python-based Retrieval-Augmented Generation framework, shows a tool-builder's mindset. He not only uses existing technologies but also creates his own frameworks to simplify and enhance the development process.\n",
       "\n",
       "4. **Integration of AI in Standard Applications**: In the \"FastAPI TODO MCP\" project, he integrated a local LLM into a standard CRUD application, demonstrating a forward-thinking approach to incorporating AI into everyday development workflows.\n",
       "\n",
       "5. **Scalability and Reusability**: The evolution of the \"Identity Provider (OIDC – .NET)\" project into a reusable multi-tenant SSO package with PostgreSQL stores shows a mindset focused on abstraction and scalability. He thinks beyond immediate tasks to create long-term, scalable solutions.\n",
       "\n",
       "6. **Continuous Learning and Building**: His professional philosophy, \"I learn by building,\" aligns with the vibe coding mindset. He actively seeks to learn through practical application and project-based learning, which is evident in his diverse and innovative projects.\n",
       "\n",
       "In conclusion, John Doe's career history and project work suggest that he does indeed have a \"vibe coding\" mindset. He is versatile, experimental, and forward-thinking, applying his skills across various domains and technologies to build innovative and scalable solutions."
      ],
      "text/plain": [
       "<IPython.core.display.Markdown object>"
      ]
     },
     "metadata": {},
     "output_type": "display_data"
    }
   ],
   "source": [
    "question = \"is he a vibe coder?\"\n",
    "\n",
    "display_markdown(f\"**Asking our RAG agent:** *{question}*\")\n",
    "\n",
    "# The .query() method is a simple, direct way to interact with the pipeline.\n",
    "response = rag.query(question)\n",
    "\n",
    "display_markdown(\"--- \\n### Answer:\")\n",
    "display_markdown(response)"
   ]
  },
  {
   "cell_type": "code",
   "execution_count": null,
   "id": "631ce9f9",
   "metadata": {},
   "outputs": [],
   "source": [
    "def visualize_rag_pipeline():\n",
    "    \"\"\"RAG pipeline with LangGraph visualization\"\"\"\n",
    "    from typing_extensions import TypedDict\n",
    "    from langgraph.graph import START, StateGraph\n",
    "    \n",
    "    class RAGState(TypedDict):\n",
    "        files: List[str]\n",
    "        raw_content: str\n",
    "        chunks: List[str]\n",
    "        embedded_chunks: List[Document]\n",
    "        question: str\n",
    "        retrieved_context: List[Document]\n",
    "        answer: str\n",
    "    \n",
    "    def load_documents(state):\n",
    "        content = \"\"\n",
    "        for file_path in state[\"files\"]:\n",
    "            file = Path(file_path)\n",
    "            result = extract_pdf_with_metadata(file)\n",
    "            content += result[\"text\"]\n",
    "        return {\"raw_content\": content}\n",
    "    \n",
    "    def split_text(state):\n",
    "        splitter = RecursiveCharacterTextSplitter(chunk_size=800, chunk_overlap=80)\n",
    "        chunks = splitter.split_text(state[\"raw_content\"])\n",
    "        return {\"chunks\": chunks}\n",
    "    \n",
    "    def embed_and_store(state):\n",
    "        documents = []\n",
    "        for i, chunk in enumerate(state[\"chunks\"]):\n",
    "            documents.append(Document(\n",
    "                page_content=chunk,\n",
    "                metadata={\"chunk_id\": i, \"source\": \"document\"}\n",
    "            ))\n",
    "        return {\"embedded_chunks\": documents}\n",
    "    \n",
    "    def retrieve_context(state):\n",
    "        relevant_docs = state[\"embedded_chunks\"][:3]\n",
    "        return {\"retrieved_context\": relevant_docs}\n",
    "    \n",
    "    def generate_answer(state):\n",
    "        context = \"\\n\\n\".join([doc.page_content for doc in state[\"retrieved_context\"]])\n",
    "        \n",
    "        # Few-shot template\n",
    "        example_template = PromptTemplate(\n",
    "            template=\"Context: {context}\\nQuestion: {question}\\nAnswer: {answer}\",\n",
    "            input_variables=[\"context\", \"question\", \"answer\"]\n",
    "        )\n",
    "        \n",
    "        examples = [\n",
    "            {\n",
    "                \"context\": \"Alex Chen\\nAI Developer\\nBuilt GPT-4 tools\",\n",
    "                \"question\": \"What AI tools does this developer use?\", \n",
    "                \"answer\": \"This developer uses GPT-4 for code completion.\"\n",
    "            }\n",
    "        ]\n",
    "        \n",
    "        few_shot_template = FewShotPromptTemplate(\n",
    "            examples=examples,\n",
    "            example_prompt=example_template,\n",
    "            suffix=\"Context: {context}\\nQuestion: {question}\\nAnswer:\",\n",
    "            input_variables=[\"context\", \"question\"]\n",
    "        )\n",
    "        \n",
    "        formatted_prompt = few_shot_template.format(context=context, question=state[\"question\"])\n",
    "        answer = f\"Few-shot prompt generated: {formatted_prompt[:200]}...\\n\\n[LLM Answer would be here]\"\n",
    "        return {\"answer\": answer}\n",
    "    \n",
    "    graph_builder = StateGraph(RAGState)\n",
    "    \n",
    "    graph_builder.add_node(\"load_docs\", load_documents)\n",
    "    graph_builder.add_node(\"split_text\", split_text) \n",
    "    graph_builder.add_node(\"embed_store\", embed_and_store)\n",
    "    graph_builder.add_node(\"retrieve\", retrieve_context)\n",
    "    graph_builder.add_node(\"generate\", generate_answer)\n",
    "    \n",
    "    graph_builder.add_edge(START, \"load_docs\")\n",
    "    graph_builder.add_edge(\"load_docs\", \"split_text\")\n",
    "    graph_builder.add_edge(\"split_text\", \"embed_store\")\n",
    "    graph_builder.add_edge(\"embed_store\", \"retrieve\")\n",
    "    graph_builder.add_edge(\"retrieve\", \"generate\")\n",
    "    \n",
    "    return graph_builder.compile()\n",
    "\n",
    "\n",
    "def run_visualization():\n",
    "    graph = visualize_rag_pipeline()\n",
    "    \n",
    "    result = graph.invoke({\n",
    "        \"files\": [\"datasets/resume.pdf\"],\n",
    "        \"question\": \"What is this document about?\",\n",
    "        \"raw_content\": \"\",\n",
    "        \"chunks\": [],\n",
    "        \"embedded_chunks\": [],\n",
    "        \"retrieved_context\": [],\n",
    "        \"answer\": \"\"\n",
    "    })\n",
    "    \n",
    "    print(\"📄 RAG Pipeline with Few-Shot Prompting Complete!\")\n",
    "    print(f\"✅ Loaded: {len(result['raw_content'])} characters\")\n",
    "    print(f\"✅ Split into: {len(result['chunks'])} chunks\") \n",
    "    print(f\"✅ Embedded: {len(result['embedded_chunks'])} documents\")\n",
    "    print(f\"✅ Retrieved: {len(result['retrieved_context'])} relevant chunks\")\n",
    "    print(f\"✅ Generated with few-shot: {result['answer'][:100]}...\")\n",
    "    "
   ]
  },
  {
   "cell_type": "code",
   "execution_count": 120,
   "id": "60c76b74",
   "metadata": {},
   "outputs": [
    {
     "data": {
      "image/png": "[encoded data removed]",
      "text/plain": [
       "<IPython.core.display.Image object>"
      ]
     },
     "metadata": {},
     "output_type": "display_data"
    }
   ],
   "source": [
    "from IPython.display import Image, display\n",
    "graph = visualize_rag_pipeline()\n",
    "img_data = graph.get_graph().draw_mermaid_png()\n",
    "display(Image(img_data))"
   ]
  }
 ],
 "metadata": {
  "kernelspec": {
   "display_name": "Python 3.12 (myenv)",
   "language": "python",
   "name": "myenv"
  },
  "language_info": {
   "codemirror_mode": {
    "name": "ipython",
    "version": 3
   },
   "file_extension": ".py",
   "mimetype": "text/x-python",
   "name": "python",
   "nbconvert_exporter": "python",
   "pygments_lexer": "ipython3",
   "version": "3.12.11"
  }
 },
 "nbformat": 4,
 "nbformat_minor": 5
}
